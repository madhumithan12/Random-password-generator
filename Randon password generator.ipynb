{
 "cells": [
  {
   "cell_type": "code",
   "execution_count": 10,
   "id": "c1e774fe-53ec-4cd6-b9cf-83397abd68b8",
   "metadata": {},
   "outputs": [
    {
     "name": "stdout",
     "output_type": "stream",
     "text": [
      "Welcome to random password generator!\n"
     ]
    },
    {
     "name": "stdin",
     "output_type": "stream",
     "text": [
      "Please enter the number of passwords to be generated:  6\n",
      "Please enter the length of the password needed:  7\n"
     ]
    },
    {
     "name": "stdout",
     "output_type": "stream",
     "text": [
      "Here are your random passwords: \n",
      "Xzo7ipv\n",
      "bwKbhXf\n",
      "8iUJYl@\n",
      "6o19&$p\n",
      "6hJnbVT\n",
      "!iR0w6B\n"
     ]
    }
   ],
   "source": [
    "#random password generator\n",
    "\n",
    "import random \n",
    "\n",
    "print(\"Welcome to random password generator!\")\n",
    "randomchars = \"ABCDEFGHIJKLMNOPQRSTUVWXYZabcdefghijklmnopqrstuvwxyz1234567890!@#$%^&\"\n",
    "numberofpasswords = int(input(\"Please enter the number of passwords to be generated: \"))\n",
    "passwordlength = int(input(\"Please enter the length of the password needed: \"))\n",
    "\n",
    "print(\"Here are your random passwords: \")\n",
    "for i in range(numberofpasswords):\n",
    "    password = \"\"\n",
    "    for chars in range(passwordlength):\n",
    "         password = password + random.choice(randomchars)\n",
    "    print(password)\n"
   ]
  },
  {
   "cell_type": "code",
   "execution_count": null,
   "id": "c2b7d575-4686-490b-a523-9eaceb0a59f4",
   "metadata": {},
   "outputs": [],
   "source": []
  },
  {
   "cell_type": "code",
   "execution_count": null,
   "id": "ea4e694b-88e2-4814-b581-fe5d8bbb8f75",
   "metadata": {},
   "outputs": [],
   "source": []
  }
 ],
 "metadata": {
  "kernelspec": {
   "display_name": "Python 3 (ipykernel)",
   "language": "python",
   "name": "python3"
  },
  "language_info": {
   "codemirror_mode": {
    "name": "ipython",
    "version": 3
   },
   "file_extension": ".py",
   "mimetype": "text/x-python",
   "name": "python",
   "nbconvert_exporter": "python",
   "pygments_lexer": "ipython3",
   "version": "3.12.3"
  }
 },
 "nbformat": 4,
 "nbformat_minor": 5
}
